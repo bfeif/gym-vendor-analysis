{
 "cells": [
  {
   "cell_type": "markdown",
   "id": "7121bb98",
   "metadata": {},
   "source": [
    "# 0. Load Env"
   ]
  },
  {
   "cell_type": "code",
   "execution_count": 37,
   "id": "b42634a2",
   "metadata": {},
   "outputs": [],
   "source": [
    "import json\n",
    "import pandas as pd\n",
    "from typing import List, Dict, Tuple, Any, Callable, Union\n",
    "from functools import reduce\n",
    "from operator import getitem\n",
    "from vaderSentiment.vaderSentiment import SentimentIntensityAnalyzer\n",
    "pd.set_option('display.max_colwidth', None)"
   ]
  },
  {
   "cell_type": "code",
   "execution_count": 38,
   "id": "1e58bfc2",
   "metadata": {},
   "outputs": [],
   "source": [
    "TWEET_DICT_KEY_MAPPING = [\n",
    "    ((\"url\",), \"url\",),\n",
    "    ((\"content\",), \"content\",),\n",
    "    ((\"id\",), \"tweet_id\",),\n",
    "    ((\"user\", \"id\",), \"user_id\",),\n",
    "    ((\"user\", \"username\",), \"user_name\",),\n",
    "    ((\"date\",), \"datetime\",),\n",
    "]"
   ]
  },
  {
   "cell_type": "code",
   "execution_count": 39,
   "id": "685bacf6",
   "metadata": {},
   "outputs": [],
   "source": [
    "def nested_dictionary_get(d: Dict, key: Tuple):\n",
    "    return reduce(getitem, key, d)\n",
    "\n",
    "\n",
    "def parse_and_reduce_tweet(tweet: Dict) -> Dict[str, Any]:\n",
    "    \"\"\"\n",
    "    Parses a tweet (represented as a dictionary), reducing the tweet to the schema defined\n",
    "    in `keys_set`\n",
    "    \"\"\"\n",
    "    new_dict = {new_name: nested_dictionary_get(d=tweet, key=nested_key)\n",
    "                for nested_key, new_name in TWEET_DICT_KEY_MAPPING}\n",
    "    return new_dict"
   ]
  },
  {
   "cell_type": "code",
   "execution_count": 40,
   "id": "bc3c04b7",
   "metadata": {},
   "outputs": [],
   "source": [
    "def load_and_parse_twarc_file_to_list_of_tweets(path: str, parse_tweet_fxn: Callable) -> List:\n",
    "    with open(path, 'rb') as f:\n",
    "        return [parse_tweet_fxn(json.loads(line)) for line in f]"
   ]
  },
  {
   "cell_type": "code",
   "execution_count": 41,
   "id": "82d71e08",
   "metadata": {},
   "outputs": [],
   "source": [
    "def load_twarc_json_file_to_dataframe(path: str, parse_tweet_fxn: Callable) -> pd.DataFrame:\n",
    "    print(f\"Loading data from {path}.\")\n",
    "    tweets_list = load_and_parse_twarc_file_to_list_of_tweets(path=path, parse_tweet_fxn=parse_and_reduce_tweet)\n",
    "    tweet_df = pd.DataFrame.from_records(tweets_list)\n",
    "    return tweet_df\n",
    "\n",
    "\n",
    "def load_twarc_json_files_to_dataframe(paths: List[str], parse_tweet_fxn: Callable) -> pd.DataFrame:\n",
    "    tweet_dfs = [load_twarc_json_file_to_dataframe(path, parse_tweet_fxn) for path in paths]\n",
    "    tweet_df = pd.concat(tweet_dfs)\n",
    "    return tweet_df"
   ]
  },
  {
   "cell_type": "code",
   "execution_count": 56,
   "id": "9c7718ea",
   "metadata": {},
   "outputs": [],
   "source": [
    "def save_tweets_df(df, path):\n",
    "    print(f\"Saving data to {path}.\")\n",
    "    df.to_parquet(path)"
   ]
  },
  {
   "cell_type": "code",
   "execution_count": 62,
   "id": "6274bd8c",
   "metadata": {},
   "outputs": [],
   "source": [
    "def load_tweets_df(path):\n",
    "    print(f\"Loading data from {path}.\")\n",
    "    return pd.read_parquet(path)"
   ]
  },
  {
   "cell_type": "markdown",
   "id": "d8fb67d8",
   "metadata": {},
   "source": [
    "# 1. Load Tweets Data, Enrich with Sentiment, and Export"
   ]
  },
  {
   "cell_type": "markdown",
   "id": "3bbd781b",
   "metadata": {},
   "source": [
    "#### Load tweets to a dataframe"
   ]
  },
  {
   "cell_type": "code",
   "execution_count": 42,
   "id": "0a090fc0",
   "metadata": {},
   "outputs": [],
   "source": [
    "paths = [\n",
    "    \"/Users/b.feifke/code/home-gym-vendor-twitter-sentiment-analysis/data/Arsenal_Strngth.jsonl\",\n",
    "    \"/Users/b.feifke/code/home-gym-vendor-twitter-sentiment-analysis/data/BeTitanFit.jsonl\",\n",
    "    \"/Users/b.feifke/code/home-gym-vendor-twitter-sentiment-analysis/data/BodySolidFit.jsonl\",\n",
    "    \"/Users/b.feifke/code/home-gym-vendor-twitter-sentiment-analysis/data/BodycraftFit.jsonl\",\n",
    "    \"/Users/b.feifke/code/home-gym-vendor-twitter-sentiment-analysis/data/CAPBarbell84.jsonl\",\n",
    "    \"/Users/b.feifke/code/home-gym-vendor-twitter-sentiment-analysis/data/HOISTFitness.jsonl\",\n",
    "    \"/Users/b.feifke/code/home-gym-vendor-twitter-sentiment-analysis/data/HammerStrength.jsonl\",\n",
    "    \"/Users/b.feifke/code/home-gym-vendor-twitter-sentiment-analysis/data/LifeFitness.jsonl\",\n",
    "    \"/Users/b.feifke/code/home-gym-vendor-twitter-sentiment-analysis/data/PRxPerformance.jsonl\",\n",
    "    \"/Users/b.feifke/code/home-gym-vendor-twitter-sentiment-analysis/data/Powertec.jsonl\",\n",
    "    \"/Users/b.feifke/code/home-gym-vendor-twitter-sentiment-analysis/data/RepFitnessEquip.jsonl\",\n",
    "    \"/Users/b.feifke/code/home-gym-vendor-twitter-sentiment-analysis/data/RogueFitness.jsonl\",\n",
    "    \"/Users/b.feifke/code/home-gym-vendor-twitter-sentiment-analysis/data/Sorinex.jsonl\",\n",
    "    \"/Users/b.feifke/code/home-gym-vendor-twitter-sentiment-analysis/data/TorqueFitness.jsonl\",\n",
    "    \"/Users/b.feifke/code/home-gym-vendor-twitter-sentiment-analysis/data/bellsofsteel.jsonl\",\n",
    "    \"/Users/b.feifke/code/home-gym-vendor-twitter-sentiment-analysis/data/concept2.jsonl\",\n",
    "    \"/Users/b.feifke/code/home-gym-vendor-twitter-sentiment-analysis/data/cybex.jsonl\",\n",
    "    \"/Users/b.feifke/code/home-gym-vendor-twitter-sentiment-analysis/data/elitefts.jsonl\",\n",
    "    \"/Users/b.feifke/code/home-gym-vendor-twitter-sentiment-analysis/data/force_usa.jsonl\",\n",
    "    \"/Users/b.feifke/code/home-gym-vendor-twitter-sentiment-analysis/data/onepeloton.jsonl\"\n",
    "]"
   ]
  },
  {
   "cell_type": "code",
   "execution_count": 43,
   "id": "8524ddf9",
   "metadata": {},
   "outputs": [
    {
     "name": "stdout",
     "output_type": "stream",
     "text": [
      "Loading data from /Users/b.feifke/code/home-gym-vendor-twitter-sentiment-analysis/data/Arsenal_Strngth.jsonl.\n",
      "Loading data from /Users/b.feifke/code/home-gym-vendor-twitter-sentiment-analysis/data/BeTitanFit.jsonl.\n",
      "Loading data from /Users/b.feifke/code/home-gym-vendor-twitter-sentiment-analysis/data/BodySolidFit.jsonl.\n",
      "Loading data from /Users/b.feifke/code/home-gym-vendor-twitter-sentiment-analysis/data/BodycraftFit.jsonl.\n",
      "Loading data from /Users/b.feifke/code/home-gym-vendor-twitter-sentiment-analysis/data/CAPBarbell84.jsonl.\n",
      "Loading data from /Users/b.feifke/code/home-gym-vendor-twitter-sentiment-analysis/data/HOISTFitness.jsonl.\n",
      "Loading data from /Users/b.feifke/code/home-gym-vendor-twitter-sentiment-analysis/data/HammerStrength.jsonl.\n",
      "Loading data from /Users/b.feifke/code/home-gym-vendor-twitter-sentiment-analysis/data/LifeFitness.jsonl.\n",
      "Loading data from /Users/b.feifke/code/home-gym-vendor-twitter-sentiment-analysis/data/PRxPerformance.jsonl.\n",
      "Loading data from /Users/b.feifke/code/home-gym-vendor-twitter-sentiment-analysis/data/Powertec.jsonl.\n",
      "Loading data from /Users/b.feifke/code/home-gym-vendor-twitter-sentiment-analysis/data/RepFitnessEquip.jsonl.\n",
      "Loading data from /Users/b.feifke/code/home-gym-vendor-twitter-sentiment-analysis/data/RogueFitness.jsonl.\n",
      "Loading data from /Users/b.feifke/code/home-gym-vendor-twitter-sentiment-analysis/data/Sorinex.jsonl.\n",
      "Loading data from /Users/b.feifke/code/home-gym-vendor-twitter-sentiment-analysis/data/TorqueFitness.jsonl.\n",
      "Loading data from /Users/b.feifke/code/home-gym-vendor-twitter-sentiment-analysis/data/bellsofsteel.jsonl.\n",
      "Loading data from /Users/b.feifke/code/home-gym-vendor-twitter-sentiment-analysis/data/concept2.jsonl.\n",
      "Loading data from /Users/b.feifke/code/home-gym-vendor-twitter-sentiment-analysis/data/cybex.jsonl.\n",
      "Loading data from /Users/b.feifke/code/home-gym-vendor-twitter-sentiment-analysis/data/elitefts.jsonl.\n",
      "Loading data from /Users/b.feifke/code/home-gym-vendor-twitter-sentiment-analysis/data/force_usa.jsonl.\n",
      "Loading data from /Users/b.feifke/code/home-gym-vendor-twitter-sentiment-analysis/data/onepeloton.jsonl.\n"
     ]
    }
   ],
   "source": [
    "# tweet_df = load_twarc_json_file_to_dataframe(path=paths[0], parse_tweet_fxn=parse_and_reduce_tweet)\n",
    "tweet_df = load_twarc_json_files_to_dataframe(paths=paths, parse_tweet_fxn=parse_and_reduce_tweet)"
   ]
  },
  {
   "cell_type": "markdown",
   "id": "64fbe5ce",
   "metadata": {},
   "source": [
    "#### Validate Data"
   ]
  },
  {
   "cell_type": "code",
   "execution_count": 44,
   "id": "13e4b221",
   "metadata": {},
   "outputs": [
    {
     "data": {
      "text/html": [
       "<div>\n",
       "<style scoped>\n",
       "    .dataframe tbody tr th:only-of-type {\n",
       "        vertical-align: middle;\n",
       "    }\n",
       "\n",
       "    .dataframe tbody tr th {\n",
       "        vertical-align: top;\n",
       "    }\n",
       "\n",
       "    .dataframe thead th {\n",
       "        text-align: right;\n",
       "    }\n",
       "</style>\n",
       "<table border=\"1\" class=\"dataframe\">\n",
       "  <thead>\n",
       "    <tr style=\"text-align: right;\">\n",
       "      <th></th>\n",
       "      <th>0</th>\n",
       "      <th>1</th>\n",
       "      <th>2</th>\n",
       "      <th>3</th>\n",
       "      <th>4</th>\n",
       "    </tr>\n",
       "  </thead>\n",
       "  <tbody>\n",
       "    <tr>\n",
       "      <th>url</th>\n",
       "      <td>https://twitter.com/Ayoobi77/status/1567340537333837824</td>\n",
       "      <td>https://twitter.com/Arsenal_Strngth/status/1567145753360977922</td>\n",
       "      <td>https://twitter.com/Arsenal_Strngth/status/1567144502334308354</td>\n",
       "      <td>https://twitter.com/Ayoobi77/status/1566312069196124166</td>\n",
       "      <td>https://twitter.com/Ayoobi77/status/1566311005038297089</td>\n",
       "    </tr>\n",
       "    <tr>\n",
       "      <th>content</th>\n",
       "      <td>@Arsenal_Strngth The true face of sports engineering 🙂\\nArsenal Strength</td>\n",
       "      <td>Shipping soon: black on black Reloaded Iso Lat Pull down. https://t.co/GgnZl99ZhI</td>\n",
       "      <td>@Ayoobi77 @Collin_Abel10 @EaglevilleFB @CoachFWalker Thank you! ⚔️</td>\n",
       "      <td>@Collin_Abel10 @Arsenal_Strngth @EaglevilleFB @CoachFWalker The best machine</td>\n",
       "      <td>@Arsenal_Strngth Excellent products from Arsenal Strength 👍👍👍</td>\n",
       "    </tr>\n",
       "    <tr>\n",
       "      <th>tweet_id</th>\n",
       "      <td>1567340537333837824</td>\n",
       "      <td>1567145753360977922</td>\n",
       "      <td>1567144502334308354</td>\n",
       "      <td>1566312069196124166</td>\n",
       "      <td>1566311005038297089</td>\n",
       "    </tr>\n",
       "    <tr>\n",
       "      <th>user_id</th>\n",
       "      <td>787689201231888384</td>\n",
       "      <td>2942005261</td>\n",
       "      <td>2942005261</td>\n",
       "      <td>787689201231888384</td>\n",
       "      <td>787689201231888384</td>\n",
       "    </tr>\n",
       "    <tr>\n",
       "      <th>user_name</th>\n",
       "      <td>Ayoobi77</td>\n",
       "      <td>Arsenal_Strngth</td>\n",
       "      <td>Arsenal_Strngth</td>\n",
       "      <td>Ayoobi77</td>\n",
       "      <td>Ayoobi77</td>\n",
       "    </tr>\n",
       "    <tr>\n",
       "      <th>datetime</th>\n",
       "      <td>2022-09-07T02:34:38+00:00</td>\n",
       "      <td>2022-09-06T13:40:38+00:00</td>\n",
       "      <td>2022-09-06T13:35:40+00:00</td>\n",
       "      <td>2022-09-04T06:27:52+00:00</td>\n",
       "      <td>2022-09-04T06:23:38+00:00</td>\n",
       "    </tr>\n",
       "  </tbody>\n",
       "</table>\n",
       "</div>"
      ],
      "text/plain": [
       "                                                                                  0  \\\n",
       "url                         https://twitter.com/Ayoobi77/status/1567340537333837824   \n",
       "content    @Arsenal_Strngth The true face of sports engineering 🙂\\nArsenal Strength   \n",
       "tweet_id                                                        1567340537333837824   \n",
       "user_id                                                          787689201231888384   \n",
       "user_name                                                                  Ayoobi77   \n",
       "datetime                                                  2022-09-07T02:34:38+00:00   \n",
       "\n",
       "                                                                                           1  \\\n",
       "url                           https://twitter.com/Arsenal_Strngth/status/1567145753360977922   \n",
       "content    Shipping soon: black on black Reloaded Iso Lat Pull down. https://t.co/GgnZl99ZhI   \n",
       "tweet_id                                                                 1567145753360977922   \n",
       "user_id                                                                           2942005261   \n",
       "user_name                                                                    Arsenal_Strngth   \n",
       "datetime                                                           2022-09-06T13:40:38+00:00   \n",
       "\n",
       "                                                                            2  \\\n",
       "url            https://twitter.com/Arsenal_Strngth/status/1567144502334308354   \n",
       "content    @Ayoobi77 @Collin_Abel10 @EaglevilleFB @CoachFWalker Thank you! ⚔️   \n",
       "tweet_id                                                  1567144502334308354   \n",
       "user_id                                                            2942005261   \n",
       "user_name                                                     Arsenal_Strngth   \n",
       "datetime                                            2022-09-06T13:35:40+00:00   \n",
       "\n",
       "                                                                                      3  \\\n",
       "url                             https://twitter.com/Ayoobi77/status/1566312069196124166   \n",
       "content    @Collin_Abel10 @Arsenal_Strngth @EaglevilleFB @CoachFWalker The best machine   \n",
       "tweet_id                                                            1566312069196124166   \n",
       "user_id                                                              787689201231888384   \n",
       "user_name                                                                      Ayoobi77   \n",
       "datetime                                                      2022-09-04T06:27:52+00:00   \n",
       "\n",
       "                                                                       4  \n",
       "url              https://twitter.com/Ayoobi77/status/1566311005038297089  \n",
       "content    @Arsenal_Strngth Excellent products from Arsenal Strength 👍👍👍  \n",
       "tweet_id                                             1566311005038297089  \n",
       "user_id                                               787689201231888384  \n",
       "user_name                                                       Ayoobi77  \n",
       "datetime                                       2022-09-04T06:23:38+00:00  "
      ]
     },
     "execution_count": 44,
     "metadata": {},
     "output_type": "execute_result"
    }
   ],
   "source": [
    "tweet_df.head().T"
   ]
  },
  {
   "cell_type": "code",
   "execution_count": 45,
   "id": "6a7554cb",
   "metadata": {},
   "outputs": [
    {
     "data": {
      "text/plain": [
       "(832517, 6)"
      ]
     },
     "execution_count": 45,
     "metadata": {},
     "output_type": "execute_result"
    }
   ],
   "source": [
    "tweet_df.shape"
   ]
  },
  {
   "cell_type": "code",
   "execution_count": 47,
   "id": "7e9f6297",
   "metadata": {},
   "outputs": [
    {
     "data": {
      "text/plain": [
       "url          0.0\n",
       "content      0.0\n",
       "tweet_id     0.0\n",
       "user_id      0.0\n",
       "user_name    0.0\n",
       "datetime     0.0\n",
       "dtype: float64"
      ]
     },
     "execution_count": 47,
     "metadata": {},
     "output_type": "execute_result"
    }
   ],
   "source": [
    "tweet_df.isnull().mean()"
   ]
  },
  {
   "cell_type": "markdown",
   "id": "95fe748e",
   "metadata": {},
   "source": [
    "#### Create Sample dataframe for testing"
   ]
  },
  {
   "cell_type": "code",
   "execution_count": 48,
   "id": "5dc46507",
   "metadata": {},
   "outputs": [],
   "source": [
    "tweet_df_sample = tweet_df.sample(1000)"
   ]
  },
  {
   "cell_type": "markdown",
   "id": "e0688582",
   "metadata": {},
   "source": [
    "#### Enrich Tweets with sentiment"
   ]
  },
  {
   "cell_type": "markdown",
   "id": "3aa65e3c",
   "metadata": {},
   "source": [
    "From [Vader docs](https://vadersentiment.readthedocs.io/en/latest/pages/about_the_scoring.html):  \n",
    "> The compound score is computed by summing the valence scores of each word in the lexicon, adjusted according to the rules, and then normalized to be between -1 (most extreme negative) and +1 (most extreme positive). This is the most useful metric if you want a single unidimensional measure of sentiment for a given sentence. Calling it a ‘normalized, weighted composite score’ is accurate."
   ]
  },
  {
   "cell_type": "code",
   "execution_count": 49,
   "id": "43a2031b",
   "metadata": {},
   "outputs": [],
   "source": [
    "analyzer = SentimentIntensityAnalyzer()"
   ]
  },
  {
   "cell_type": "code",
   "execution_count": 50,
   "id": "3f6ae084",
   "metadata": {},
   "outputs": [],
   "source": [
    "tweet_df[\"sentiment\"] = tweet_df[\"content\"].apply(lambda x: analyzer.polarity_scores(x)[\"compound\"])"
   ]
  },
  {
   "cell_type": "code",
   "execution_count": 51,
   "id": "35d66820",
   "metadata": {},
   "outputs": [
    {
     "data": {
      "text/html": [
       "<div>\n",
       "<style scoped>\n",
       "    .dataframe tbody tr th:only-of-type {\n",
       "        vertical-align: middle;\n",
       "    }\n",
       "\n",
       "    .dataframe tbody tr th {\n",
       "        vertical-align: top;\n",
       "    }\n",
       "\n",
       "    .dataframe thead th {\n",
       "        text-align: right;\n",
       "    }\n",
       "</style>\n",
       "<table border=\"1\" class=\"dataframe\">\n",
       "  <thead>\n",
       "    <tr style=\"text-align: right;\">\n",
       "      <th></th>\n",
       "      <th>0</th>\n",
       "      <th>1</th>\n",
       "      <th>2</th>\n",
       "      <th>3</th>\n",
       "      <th>4</th>\n",
       "    </tr>\n",
       "  </thead>\n",
       "  <tbody>\n",
       "    <tr>\n",
       "      <th>url</th>\n",
       "      <td>https://twitter.com/Ayoobi77/status/1567340537333837824</td>\n",
       "      <td>https://twitter.com/Arsenal_Strngth/status/1567145753360977922</td>\n",
       "      <td>https://twitter.com/Arsenal_Strngth/status/1567144502334308354</td>\n",
       "      <td>https://twitter.com/Ayoobi77/status/1566312069196124166</td>\n",
       "      <td>https://twitter.com/Ayoobi77/status/1566311005038297089</td>\n",
       "    </tr>\n",
       "    <tr>\n",
       "      <th>content</th>\n",
       "      <td>@Arsenal_Strngth The true face of sports engineering 🙂\\nArsenal Strength</td>\n",
       "      <td>Shipping soon: black on black Reloaded Iso Lat Pull down. https://t.co/GgnZl99ZhI</td>\n",
       "      <td>@Ayoobi77 @Collin_Abel10 @EaglevilleFB @CoachFWalker Thank you! ⚔️</td>\n",
       "      <td>@Collin_Abel10 @Arsenal_Strngth @EaglevilleFB @CoachFWalker The best machine</td>\n",
       "      <td>@Arsenal_Strngth Excellent products from Arsenal Strength 👍👍👍</td>\n",
       "    </tr>\n",
       "    <tr>\n",
       "      <th>tweet_id</th>\n",
       "      <td>1567340537333837824</td>\n",
       "      <td>1567145753360977922</td>\n",
       "      <td>1567144502334308354</td>\n",
       "      <td>1566312069196124166</td>\n",
       "      <td>1566311005038297089</td>\n",
       "    </tr>\n",
       "    <tr>\n",
       "      <th>user_id</th>\n",
       "      <td>787689201231888384</td>\n",
       "      <td>2942005261</td>\n",
       "      <td>2942005261</td>\n",
       "      <td>787689201231888384</td>\n",
       "      <td>787689201231888384</td>\n",
       "    </tr>\n",
       "    <tr>\n",
       "      <th>user_name</th>\n",
       "      <td>Ayoobi77</td>\n",
       "      <td>Arsenal_Strngth</td>\n",
       "      <td>Arsenal_Strngth</td>\n",
       "      <td>Ayoobi77</td>\n",
       "      <td>Ayoobi77</td>\n",
       "    </tr>\n",
       "    <tr>\n",
       "      <th>datetime</th>\n",
       "      <td>2022-09-07T02:34:38+00:00</td>\n",
       "      <td>2022-09-06T13:40:38+00:00</td>\n",
       "      <td>2022-09-06T13:35:40+00:00</td>\n",
       "      <td>2022-09-04T06:27:52+00:00</td>\n",
       "      <td>2022-09-04T06:23:38+00:00</td>\n",
       "    </tr>\n",
       "    <tr>\n",
       "      <th>sentiment</th>\n",
       "      <td>0.8275</td>\n",
       "      <td>0.0</td>\n",
       "      <td>0.4199</td>\n",
       "      <td>0.6369</td>\n",
       "      <td>0.7845</td>\n",
       "    </tr>\n",
       "  </tbody>\n",
       "</table>\n",
       "</div>"
      ],
      "text/plain": [
       "                                                                                  0  \\\n",
       "url                         https://twitter.com/Ayoobi77/status/1567340537333837824   \n",
       "content    @Arsenal_Strngth The true face of sports engineering 🙂\\nArsenal Strength   \n",
       "tweet_id                                                        1567340537333837824   \n",
       "user_id                                                          787689201231888384   \n",
       "user_name                                                                  Ayoobi77   \n",
       "datetime                                                  2022-09-07T02:34:38+00:00   \n",
       "sentiment                                                                    0.8275   \n",
       "\n",
       "                                                                                           1  \\\n",
       "url                           https://twitter.com/Arsenal_Strngth/status/1567145753360977922   \n",
       "content    Shipping soon: black on black Reloaded Iso Lat Pull down. https://t.co/GgnZl99ZhI   \n",
       "tweet_id                                                                 1567145753360977922   \n",
       "user_id                                                                           2942005261   \n",
       "user_name                                                                    Arsenal_Strngth   \n",
       "datetime                                                           2022-09-06T13:40:38+00:00   \n",
       "sentiment                                                                                0.0   \n",
       "\n",
       "                                                                            2  \\\n",
       "url            https://twitter.com/Arsenal_Strngth/status/1567144502334308354   \n",
       "content    @Ayoobi77 @Collin_Abel10 @EaglevilleFB @CoachFWalker Thank you! ⚔️   \n",
       "tweet_id                                                  1567144502334308354   \n",
       "user_id                                                            2942005261   \n",
       "user_name                                                     Arsenal_Strngth   \n",
       "datetime                                            2022-09-06T13:35:40+00:00   \n",
       "sentiment                                                              0.4199   \n",
       "\n",
       "                                                                                      3  \\\n",
       "url                             https://twitter.com/Ayoobi77/status/1566312069196124166   \n",
       "content    @Collin_Abel10 @Arsenal_Strngth @EaglevilleFB @CoachFWalker The best machine   \n",
       "tweet_id                                                            1566312069196124166   \n",
       "user_id                                                              787689201231888384   \n",
       "user_name                                                                      Ayoobi77   \n",
       "datetime                                                      2022-09-04T06:27:52+00:00   \n",
       "sentiment                                                                        0.6369   \n",
       "\n",
       "                                                                       4  \n",
       "url              https://twitter.com/Ayoobi77/status/1566311005038297089  \n",
       "content    @Arsenal_Strngth Excellent products from Arsenal Strength 👍👍👍  \n",
       "tweet_id                                             1566311005038297089  \n",
       "user_id                                               787689201231888384  \n",
       "user_name                                                       Ayoobi77  \n",
       "datetime                                       2022-09-04T06:23:38+00:00  \n",
       "sentiment                                                         0.7845  "
      ]
     },
     "execution_count": 51,
     "metadata": {},
     "output_type": "execute_result"
    }
   ],
   "source": [
    "tweet_df.head().T"
   ]
  },
  {
   "cell_type": "markdown",
   "id": "fedf17cb",
   "metadata": {},
   "source": [
    "#### Validate sentiment"
   ]
  },
  {
   "cell_type": "code",
   "execution_count": 55,
   "id": "590a6a64",
   "metadata": {},
   "outputs": [
    {
     "data": {
      "text/html": [
       "<div>\n",
       "<style scoped>\n",
       "    .dataframe tbody tr th:only-of-type {\n",
       "        vertical-align: middle;\n",
       "    }\n",
       "\n",
       "    .dataframe tbody tr th {\n",
       "        vertical-align: top;\n",
       "    }\n",
       "\n",
       "    .dataframe thead th {\n",
       "        text-align: right;\n",
       "    }\n",
       "</style>\n",
       "<table border=\"1\" class=\"dataframe\">\n",
       "  <thead>\n",
       "    <tr style=\"text-align: right;\">\n",
       "      <th></th>\n",
       "      <th>content</th>\n",
       "      <th>sentiment</th>\n",
       "    </tr>\n",
       "  </thead>\n",
       "  <tbody>\n",
       "    <tr>\n",
       "      <th>0</th>\n",
       "      <td>@Arsenal_Strngth The true face of sports engineering 🙂\\nArsenal Strength</td>\n",
       "      <td>0.8275</td>\n",
       "    </tr>\n",
       "    <tr>\n",
       "      <th>1</th>\n",
       "      <td>Shipping soon: black on black Reloaded Iso Lat Pull down. https://t.co/GgnZl99ZhI</td>\n",
       "      <td>0.0000</td>\n",
       "    </tr>\n",
       "    <tr>\n",
       "      <th>2</th>\n",
       "      <td>@Ayoobi77 @Collin_Abel10 @EaglevilleFB @CoachFWalker Thank you! ⚔️</td>\n",
       "      <td>0.4199</td>\n",
       "    </tr>\n",
       "    <tr>\n",
       "      <th>3</th>\n",
       "      <td>@Collin_Abel10 @Arsenal_Strngth @EaglevilleFB @CoachFWalker The best machine</td>\n",
       "      <td>0.6369</td>\n",
       "    </tr>\n",
       "    <tr>\n",
       "      <th>4</th>\n",
       "      <td>@Arsenal_Strngth Excellent products from Arsenal Strength 👍👍👍</td>\n",
       "      <td>0.7845</td>\n",
       "    </tr>\n",
       "    <tr>\n",
       "      <th>5</th>\n",
       "      <td>@Arsenal_Strngth Thanks 🙂</td>\n",
       "      <td>0.6815</td>\n",
       "    </tr>\n",
       "    <tr>\n",
       "      <th>6</th>\n",
       "      <td>@Ayoobi77 Hello! The dimensions for this piece are Width: 37.256’’, Height: 45’’, Length 71’’</td>\n",
       "      <td>0.0000</td>\n",
       "    </tr>\n",
       "    <tr>\n",
       "      <th>7</th>\n",
       "      <td>@Arsenal_Strngth Kindly share the dimensions of alpha bent over row. Please</td>\n",
       "      <td>0.7717</td>\n",
       "    </tr>\n",
       "    <tr>\n",
       "      <th>8</th>\n",
       "      <td>All hail the king of leg presses. #arsenalstrength #legday https://t.co/qS0hH1w6UG</td>\n",
       "      <td>0.0772</td>\n",
       "    </tr>\n",
       "    <tr>\n",
       "      <th>9</th>\n",
       "      <td>@Collin_Abel10 @EaglevilleFB @CoachFWalker @Arsenal_Strngth Looks amazing!! I’m sure the boys are very thankful and can’t wait to start using the new equipment!!</td>\n",
       "      <td>0.9054</td>\n",
       "    </tr>\n",
       "    <tr>\n",
       "      <th>10</th>\n",
       "      <td>@Collin_Abel10 @CoachFWalker @EaglevilleFB @Arsenal_Strngth @CoachFWalker Those are some nice racks! Good luck this season!</td>\n",
       "      <td>0.8513</td>\n",
       "    </tr>\n",
       "    <tr>\n",
       "      <th>11</th>\n",
       "      <td>@Arsenal_Strngth Saw pictures! Looked amazing! Great job!</td>\n",
       "      <td>0.8682</td>\n",
       "    </tr>\n",
       "    <tr>\n",
       "      <th>12</th>\n",
       "      <td>Let's Go!  ⚔️ #eaglestrong https://t.co/Bl5cGAUEyD</td>\n",
       "      <td>0.0000</td>\n",
       "    </tr>\n",
       "    <tr>\n",
       "      <th>13</th>\n",
       "      <td>Want to give a big THANK YOU to @EaglevilleFB and @CoachFWalker for trusting @Arsenal_Strngth with their weight room. It means more than you know and we have one more finishing touch coming soon. #theworkneverstops #burntheships https://t.co/suadzXrEub</td>\n",
       "      <td>0.7378</td>\n",
       "    </tr>\n",
       "    <tr>\n",
       "      <th>14</th>\n",
       "      <td>Thank you @Arsenal_Strngth for the install. Can't wait to get in the weight room. And thank you to our Community Supporters for helping to get this project accomplished. #eaglestrong https://t.co/E7gnytEk4b</td>\n",
       "      <td>0.9001</td>\n",
       "    </tr>\n",
       "    <tr>\n",
       "      <th>15</th>\n",
       "      <td>@Arsenal_Strngth @EaglevilleFB install is going in today. https://t.co/RU1dMdBmc9</td>\n",
       "      <td>0.0000</td>\n",
       "    </tr>\n",
       "    <tr>\n",
       "      <th>16</th>\n",
       "      <td>New Product: The Arsenal Strength Reloaded Viking Press https://t.co/navkg2EuR2 https://t.co/QUp1hnoHLv</td>\n",
       "      <td>0.4939</td>\n",
       "    </tr>\n",
       "    <tr>\n",
       "      <th>17</th>\n",
       "      <td>@Coachjgpatrick @BielBryce @LegacyatCarbon Thank you ⚔️</td>\n",
       "      <td>0.3612</td>\n",
       "    </tr>\n",
       "    <tr>\n",
       "      <th>18</th>\n",
       "      <td>@BielBryce @LegacyatCarbon Thank you for visiting! We are excited about your project!</td>\n",
       "      <td>0.6688</td>\n",
       "    </tr>\n",
       "    <tr>\n",
       "      <th>19</th>\n",
       "      <td>@BielBryce @Arsenal_Strngth @LegacyatCarbon @Arsenal_Strngth has some quality pieces 👍🏻</td>\n",
       "      <td>0.0000</td>\n",
       "    </tr>\n",
       "  </tbody>\n",
       "</table>\n",
       "</div>"
      ],
      "text/plain": [
       "                                                                                                                                                                                                                                                         content  \\\n",
       "0                                                                                                                                                                                       @Arsenal_Strngth The true face of sports engineering 🙂\\nArsenal Strength   \n",
       "1                                                                                                                                                                              Shipping soon: black on black Reloaded Iso Lat Pull down. https://t.co/GgnZl99ZhI   \n",
       "2                                                                                                                                                                                             @Ayoobi77 @Collin_Abel10 @EaglevilleFB @CoachFWalker Thank you! ⚔️   \n",
       "3                                                                                                                                                                                   @Collin_Abel10 @Arsenal_Strngth @EaglevilleFB @CoachFWalker The best machine   \n",
       "4                                                                                                                                                                                                  @Arsenal_Strngth Excellent products from Arsenal Strength 👍👍👍   \n",
       "5                                                                                                                                                                                                                                      @Arsenal_Strngth Thanks 🙂   \n",
       "6                                                                                                                                                                  @Ayoobi77 Hello! The dimensions for this piece are Width: 37.256’’, Height: 45’’, Length 71’’   \n",
       "7                                                                                                                                                                                    @Arsenal_Strngth Kindly share the dimensions of alpha bent over row. Please   \n",
       "8                                                                                                                                                                             All hail the king of leg presses. #arsenalstrength #legday https://t.co/qS0hH1w6UG   \n",
       "9                                                                                              @Collin_Abel10 @EaglevilleFB @CoachFWalker @Arsenal_Strngth Looks amazing!! I’m sure the boys are very thankful and can’t wait to start using the new equipment!!   \n",
       "10                                                                                                                                   @Collin_Abel10 @CoachFWalker @EaglevilleFB @Arsenal_Strngth @CoachFWalker Those are some nice racks! Good luck this season!   \n",
       "11                                                                                                                                                                                                     @Arsenal_Strngth Saw pictures! Looked amazing! Great job!   \n",
       "12                                                                                                                                                                                                            Let's Go!  ⚔️ #eaglestrong https://t.co/Bl5cGAUEyD   \n",
       "13  Want to give a big THANK YOU to @EaglevilleFB and @CoachFWalker for trusting @Arsenal_Strngth with their weight room. It means more than you know and we have one more finishing touch coming soon. #theworkneverstops #burntheships https://t.co/suadzXrEub   \n",
       "14                                                Thank you @Arsenal_Strngth for the install. Can't wait to get in the weight room. And thank you to our Community Supporters for helping to get this project accomplished. #eaglestrong https://t.co/E7gnytEk4b   \n",
       "15                                                                                                                                                                             @Arsenal_Strngth @EaglevilleFB install is going in today. https://t.co/RU1dMdBmc9   \n",
       "16                                                                                                                                                       New Product: The Arsenal Strength Reloaded Viking Press https://t.co/navkg2EuR2 https://t.co/QUp1hnoHLv   \n",
       "17                                                                                                                                                                                                       @Coachjgpatrick @BielBryce @LegacyatCarbon Thank you ⚔️   \n",
       "18                                                                                                                                                                         @BielBryce @LegacyatCarbon Thank you for visiting! We are excited about your project!   \n",
       "19                                                                                                                                                                       @BielBryce @Arsenal_Strngth @LegacyatCarbon @Arsenal_Strngth has some quality pieces 👍🏻   \n",
       "\n",
       "    sentiment  \n",
       "0      0.8275  \n",
       "1      0.0000  \n",
       "2      0.4199  \n",
       "3      0.6369  \n",
       "4      0.7845  \n",
       "5      0.6815  \n",
       "6      0.0000  \n",
       "7      0.7717  \n",
       "8      0.0772  \n",
       "9      0.9054  \n",
       "10     0.8513  \n",
       "11     0.8682  \n",
       "12     0.0000  \n",
       "13     0.7378  \n",
       "14     0.9001  \n",
       "15     0.0000  \n",
       "16     0.4939  \n",
       "17     0.3612  \n",
       "18     0.6688  \n",
       "19     0.0000  "
      ]
     },
     "execution_count": 55,
     "metadata": {},
     "output_type": "execute_result"
    }
   ],
   "source": [
    "tweet_df[[\"content\", \"sentiment\"]].head(20)"
   ]
  },
  {
   "cell_type": "markdown",
   "id": "6ebcafd0",
   "metadata": {},
   "source": [
    "Sentiment seems reasonable."
   ]
  },
  {
   "cell_type": "markdown",
   "id": "249ad4b5",
   "metadata": {},
   "source": [
    "#### Export tweets df"
   ]
  },
  {
   "cell_type": "code",
   "execution_count": 59,
   "id": "3f6f2de6",
   "metadata": {},
   "outputs": [
    {
     "name": "stdout",
     "output_type": "stream",
     "text": [
      "Saving data to /Users/b.feifke/code/home-gym-vendor-twitter-sentiment-analysis/data/tweet_df.parquet.\n"
     ]
    }
   ],
   "source": [
    "path = \"/Users/b.feifke/code/home-gym-vendor-twitter-sentiment-analysis/data/tweet_df.parquet\"\n",
    "save_tweets_df(tweet_df, path)"
   ]
  },
  {
   "cell_type": "markdown",
   "id": "396fec45",
   "metadata": {},
   "source": [
    "# 2. Analyze"
   ]
  },
  {
   "cell_type": "code",
   "execution_count": 63,
   "id": "9d5b9dee",
   "metadata": {},
   "outputs": [
    {
     "name": "stdout",
     "output_type": "stream",
     "text": [
      "Loading data from /Users/b.feifke/code/home-gym-vendor-twitter-sentiment-analysis/data/tweet_df.parquet.\n"
     ]
    }
   ],
   "source": [
    "path = \"/Users/b.feifke/code/home-gym-vendor-twitter-sentiment-analysis/data/tweet_df.parquet\"\n",
    "tweet_df = load_tweets_df(path)"
   ]
  },
  {
   "cell_type": "code",
   "execution_count": null,
   "id": "426ce713",
   "metadata": {},
   "outputs": [],
   "source": []
  }
 ],
 "metadata": {
  "kernelspec": {
   "display_name": "Python 3 (ipykernel)",
   "language": "python",
   "name": "python3"
  },
  "language_info": {
   "codemirror_mode": {
    "name": "ipython",
    "version": 3
   },
   "file_extension": ".py",
   "mimetype": "text/x-python",
   "name": "python",
   "nbconvert_exporter": "python",
   "pygments_lexer": "ipython3",
   "version": "3.7.9"
  }
 },
 "nbformat": 4,
 "nbformat_minor": 5
}
