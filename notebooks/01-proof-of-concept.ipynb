{
 "cells": [
  {
   "cell_type": "markdown",
   "id": "7121bb98",
   "metadata": {},
   "source": [
    "# 0. Load Env"
   ]
  },
  {
   "cell_type": "code",
   "execution_count": 85,
   "id": "b42634a2",
   "metadata": {},
   "outputs": [],
   "source": [
    "import json\n",
    "import pandas as pd\n",
    "from typing import List, Dict, Tuple, Any, Callable, Union\n",
    "from functools import reduce\n",
    "from operator import getitem"
   ]
  },
  {
   "cell_type": "code",
   "execution_count": 54,
   "id": "1e58bfc2",
   "metadata": {},
   "outputs": [],
   "source": [
    "TWEET_DICT_KEY_MAPPING = [\n",
    "    ((\"url\",), \"url\",),\n",
    "    ((\"content\",), \"content\",),\n",
    "    ((\"id\",), \"tweet_id\",),\n",
    "    ((\"user\", \"id\",), \"user_id\",),\n",
    "    ((\"user\", \"username\",), \"user_name\",),\n",
    "    ((\"date\",), \"datetime\",),\n",
    "]"
   ]
  },
  {
   "cell_type": "code",
   "execution_count": 55,
   "id": "685bacf6",
   "metadata": {},
   "outputs": [],
   "source": [
    "def nested_dictionary_get(d: Dict, key: Tuple):\n",
    "    return reduce(getitem, key, d)\n",
    "\n",
    "def parse_and_reduce_tweet(tweet: Dict) -> Dict[str, Any]:\n",
    "    \"\"\"\n",
    "    Parses a tweet (represented as a dictionary), reducing the tweet to the schema defined\n",
    "    in `keys_set`\n",
    "    \"\"\"\n",
    "    new_dict = {new_name: nested_dictionary_get(d=tweet, key=nested_key)\n",
    "                for nested_key, new_name in TWEET_DICT_KEY_MAPPING}\n",
    "    return new_dict"
   ]
  },
  {
   "cell_type": "code",
   "execution_count": 101,
   "id": "bc3c04b7",
   "metadata": {},
   "outputs": [],
   "source": [
    "def load_and_parse_twarc_file_to_list_of_tweets(path: str, parse_tweet_fxn: Callable) -> List:\n",
    "    with open(path, 'rb') as f:\n",
    "        return [parse_tweet_fxn(json.loads(line)) for line in f]"
   ]
  },
  {
   "cell_type": "code",
   "execution_count": 102,
   "id": "82d71e08",
   "metadata": {},
   "outputs": [],
   "source": [
    "def load_twarc_json_file_to_dataframe(path: str, parse_tweet_fxn: Callable) -> pd.DataFrame:\n",
    "    tweets_list = load_and_parse_twarc_file_to_list_of_tweets(path=path, parse_tweet_fxn=parse_and_reduce_tweet)\n",
    "    tweet_df = pd.DataFrame.from_records(tweets_list)\n",
    "    return tweet_df\n",
    "\n",
    "def load_twarc_json_files_to_dataframe(paths: List[str], parse_tweet_fxn: Callable) -> pd.DataFrame:\n",
    "    tweet_dfs = [load_twarc_json_file_to_dataframe(path, parse_tweet_fxn) for path in paths]\n",
    "    tweet_df = pd.concat(tweet_dfs)\n",
    "    return tweet_df"
   ]
  },
  {
   "cell_type": "markdown",
   "id": "d8fb67d8",
   "metadata": {},
   "source": [
    "# 1. Proof of Concept"
   ]
  },
  {
   "cell_type": "markdown",
   "id": "3bbd781b",
   "metadata": {},
   "source": [
    "#### Load tweets to a dataframe"
   ]
  },
  {
   "cell_type": "code",
   "execution_count": 103,
   "id": "0a090fc0",
   "metadata": {},
   "outputs": [],
   "source": [
    "paths = [\n",
    "    \"/Users/b.feifke/code/home-gym-vendor-twitter-sentiment-analysis/data/Arsenal_Strngth.jsonl\",\n",
    "    \"/Users/b.feifke/code/home-gym-vendor-twitter-sentiment-analysis/data/BeTitanFit.jsonl\",\n",
    "    \"/Users/b.feifke/code/home-gym-vendor-twitter-sentiment-analysis/data/BodySolidFit.jsonl\",\n",
    "    \"/Users/b.feifke/code/home-gym-vendor-twitter-sentiment-analysis/data/BodycraftFit.jsonl\",\n",
    "    \"/Users/b.feifke/code/home-gym-vendor-twitter-sentiment-analysis/data/CAPBarbell84.jsonl\",\n",
    "    \"/Users/b.feifke/code/home-gym-vendor-twitter-sentiment-analysis/data/Gym Scrape.zip\",\n",
    "    \"/Users/b.feifke/code/home-gym-vendor-twitter-sentiment-analysis/data/HOISTFitness.jsonl\",\n",
    "    \"/Users/b.feifke/code/home-gym-vendor-twitter-sentiment-analysis/data/HammerStrength.jsonl\",\n",
    "    \"/Users/b.feifke/code/home-gym-vendor-twitter-sentiment-analysis/data/LifeFitness.jsonl\",\n",
    "    \"/Users/b.feifke/code/home-gym-vendor-twitter-sentiment-analysis/data/PRxPerformance.jsonl\",\n",
    "    \"/Users/b.feifke/code/home-gym-vendor-twitter-sentiment-analysis/data/Powertec.jsonl\",\n",
    "    \"/Users/b.feifke/code/home-gym-vendor-twitter-sentiment-analysis/data/RepFitnessEquip.jsonl\",\n",
    "    \"/Users/b.feifke/code/home-gym-vendor-twitter-sentiment-analysis/data/RogueFitness.jsonl\",\n",
    "    \"/Users/b.feifke/code/home-gym-vendor-twitter-sentiment-analysis/data/Sorinex.jsonl\",\n",
    "    \"/Users/b.feifke/code/home-gym-vendor-twitter-sentiment-analysis/data/TorqueFitness.jsonl\",\n",
    "    \"/Users/b.feifke/code/home-gym-vendor-twitter-sentiment-analysis/data/bellsofsteel.jsonl\",\n",
    "    \"/Users/b.feifke/code/home-gym-vendor-twitter-sentiment-analysis/data/concept2.jsonl\",\n",
    "    \"/Users/b.feifke/code/home-gym-vendor-twitter-sentiment-analysis/data/cybex.jsonl\",\n",
    "    \"/Users/b.feifke/code/home-gym-vendor-twitter-sentiment-analysis/data/elitefts.jsonl\",\n",
    "    \"/Users/b.feifke/code/home-gym-vendor-twitter-sentiment-analysis/data/force_usa.jsonl\",\n",
    "    \"/Users/b.feifke/code/home-gym-vendor-twitter-sentiment-analysis/data/onepeloton.jsonl\"\n",
    "]"
   ]
  },
  {
   "cell_type": "code",
   "execution_count": 106,
   "id": "8524ddf9",
   "metadata": {},
   "outputs": [],
   "source": [
    "tweet_df = load_twarc_json_file_to_dataframe(path=paths[0], parse_tweet_fxn=parse_and_reduce_tweet)"
   ]
  },
  {
   "cell_type": "code",
   "execution_count": 107,
   "id": "13e4b221",
   "metadata": {},
   "outputs": [
    {
     "data": {
      "text/html": [
       "<div>\n",
       "<style scoped>\n",
       "    .dataframe tbody tr th:only-of-type {\n",
       "        vertical-align: middle;\n",
       "    }\n",
       "\n",
       "    .dataframe tbody tr th {\n",
       "        vertical-align: top;\n",
       "    }\n",
       "\n",
       "    .dataframe thead th {\n",
       "        text-align: right;\n",
       "    }\n",
       "</style>\n",
       "<table border=\"1\" class=\"dataframe\">\n",
       "  <thead>\n",
       "    <tr style=\"text-align: right;\">\n",
       "      <th></th>\n",
       "      <th>0</th>\n",
       "      <th>1</th>\n",
       "      <th>2</th>\n",
       "      <th>3</th>\n",
       "      <th>4</th>\n",
       "    </tr>\n",
       "  </thead>\n",
       "  <tbody>\n",
       "    <tr>\n",
       "      <th>url</th>\n",
       "      <td>https://twitter.com/Ayoobi77/status/1567340537...</td>\n",
       "      <td>https://twitter.com/Arsenal_Strngth/status/156...</td>\n",
       "      <td>https://twitter.com/Arsenal_Strngth/status/156...</td>\n",
       "      <td>https://twitter.com/Ayoobi77/status/1566312069...</td>\n",
       "      <td>https://twitter.com/Ayoobi77/status/1566311005...</td>\n",
       "    </tr>\n",
       "    <tr>\n",
       "      <th>content</th>\n",
       "      <td>@Arsenal_Strngth The true face of sports engin...</td>\n",
       "      <td>Shipping soon: black on black Reloaded Iso Lat...</td>\n",
       "      <td>@Ayoobi77 @Collin_Abel10 @EaglevilleFB @CoachF...</td>\n",
       "      <td>@Collin_Abel10 @Arsenal_Strngth @EaglevilleFB ...</td>\n",
       "      <td>@Arsenal_Strngth Excellent products from Arsen...</td>\n",
       "    </tr>\n",
       "    <tr>\n",
       "      <th>tweet_id</th>\n",
       "      <td>1567340537333837824</td>\n",
       "      <td>1567145753360977922</td>\n",
       "      <td>1567144502334308354</td>\n",
       "      <td>1566312069196124166</td>\n",
       "      <td>1566311005038297089</td>\n",
       "    </tr>\n",
       "    <tr>\n",
       "      <th>user_id</th>\n",
       "      <td>787689201231888384</td>\n",
       "      <td>2942005261</td>\n",
       "      <td>2942005261</td>\n",
       "      <td>787689201231888384</td>\n",
       "      <td>787689201231888384</td>\n",
       "    </tr>\n",
       "    <tr>\n",
       "      <th>user_name</th>\n",
       "      <td>Ayoobi77</td>\n",
       "      <td>Arsenal_Strngth</td>\n",
       "      <td>Arsenal_Strngth</td>\n",
       "      <td>Ayoobi77</td>\n",
       "      <td>Ayoobi77</td>\n",
       "    </tr>\n",
       "    <tr>\n",
       "      <th>datetime</th>\n",
       "      <td>2022-09-07T02:34:38+00:00</td>\n",
       "      <td>2022-09-06T13:40:38+00:00</td>\n",
       "      <td>2022-09-06T13:35:40+00:00</td>\n",
       "      <td>2022-09-04T06:27:52+00:00</td>\n",
       "      <td>2022-09-04T06:23:38+00:00</td>\n",
       "    </tr>\n",
       "  </tbody>\n",
       "</table>\n",
       "</div>"
      ],
      "text/plain": [
       "                                                           0  \\\n",
       "url        https://twitter.com/Ayoobi77/status/1567340537...   \n",
       "content    @Arsenal_Strngth The true face of sports engin...   \n",
       "tweet_id                                 1567340537333837824   \n",
       "user_id                                   787689201231888384   \n",
       "user_name                                           Ayoobi77   \n",
       "datetime                           2022-09-07T02:34:38+00:00   \n",
       "\n",
       "                                                           1  \\\n",
       "url        https://twitter.com/Arsenal_Strngth/status/156...   \n",
       "content    Shipping soon: black on black Reloaded Iso Lat...   \n",
       "tweet_id                                 1567145753360977922   \n",
       "user_id                                           2942005261   \n",
       "user_name                                    Arsenal_Strngth   \n",
       "datetime                           2022-09-06T13:40:38+00:00   \n",
       "\n",
       "                                                           2  \\\n",
       "url        https://twitter.com/Arsenal_Strngth/status/156...   \n",
       "content    @Ayoobi77 @Collin_Abel10 @EaglevilleFB @CoachF...   \n",
       "tweet_id                                 1567144502334308354   \n",
       "user_id                                           2942005261   \n",
       "user_name                                    Arsenal_Strngth   \n",
       "datetime                           2022-09-06T13:35:40+00:00   \n",
       "\n",
       "                                                           3  \\\n",
       "url        https://twitter.com/Ayoobi77/status/1566312069...   \n",
       "content    @Collin_Abel10 @Arsenal_Strngth @EaglevilleFB ...   \n",
       "tweet_id                                 1566312069196124166   \n",
       "user_id                                   787689201231888384   \n",
       "user_name                                           Ayoobi77   \n",
       "datetime                           2022-09-04T06:27:52+00:00   \n",
       "\n",
       "                                                           4  \n",
       "url        https://twitter.com/Ayoobi77/status/1566311005...  \n",
       "content    @Arsenal_Strngth Excellent products from Arsen...  \n",
       "tweet_id                                 1566311005038297089  \n",
       "user_id                                   787689201231888384  \n",
       "user_name                                           Ayoobi77  \n",
       "datetime                           2022-09-04T06:23:38+00:00  "
      ]
     },
     "execution_count": 107,
     "metadata": {},
     "output_type": "execute_result"
    }
   ],
   "source": [
    "tweet_df.head().T"
   ]
  },
  {
   "cell_type": "markdown",
   "id": "e0688582",
   "metadata": {},
   "source": [
    "#### Enrich Tweets with sentiment"
   ]
  },
  {
   "cell_type": "code",
   "execution_count": null,
   "id": "43a2031b",
   "metadata": {},
   "outputs": [],
   "source": []
  }
 ],
 "metadata": {
  "kernelspec": {
   "display_name": "Python 3 (ipykernel)",
   "language": "python",
   "name": "python3"
  },
  "language_info": {
   "codemirror_mode": {
    "name": "ipython",
    "version": 3
   },
   "file_extension": ".py",
   "mimetype": "text/x-python",
   "name": "python",
   "nbconvert_exporter": "python",
   "pygments_lexer": "ipython3",
   "version": "3.7.9"
  }
 },
 "nbformat": 4,
 "nbformat_minor": 5
}
